{
  "nbformat": 4,
  "nbformat_minor": 0,
  "metadata": {
    "colab": {
      "provenance": []
    },
    "kernelspec": {
      "name": "python3",
      "display_name": "Python 3"
    },
    "language_info": {
      "name": "python"
    }
  },
  "cells": [
    {
      "cell_type": "code",
      "execution_count": null,
      "metadata": {
        "colab": {
          "base_uri": "https://localhost:8080/"
        },
        "id": "ttIaBUqIxE49",
        "outputId": "09829a01-2ab9-4d6b-ab6d-1b444e727a4f"
      },
      "outputs": [
        {
          "output_type": "stream",
          "name": "stdout",
          "text": [
            "<class 'pandas.core.frame.DataFrame'>\n",
            "RangeIndex: 15000 entries, 0 to 14999\n",
            "Data columns (total 12 columns):\n",
            " #   Column              Non-Null Count  Dtype  \n",
            "---  ------              --------------  -----  \n",
            " 0   Timestamp           15000 non-null  object \n",
            " 1   Acceleration_X      15000 non-null  float64\n",
            " 2   Acceleration_Y      15000 non-null  float64\n",
            " 3   Acceleration_Z      15000 non-null  float64\n",
            " 4   Angular_Velocity_X  15000 non-null  float64\n",
            " 5   Angular_Velocity_Y  15000 non-null  float64\n",
            " 6   Angular_Velocity_Z  15000 non-null  float64\n",
            " 7   Pressure_Left       15000 non-null  float64\n",
            " 8   Pressure_Right      15000 non-null  float64\n",
            " 9   Heart_Rate          15000 non-null  float64\n",
            " 10  Body_Temperature    15000 non-null  float64\n",
            " 11  Risk_Level_Updated  15000 non-null  object \n",
            "dtypes: float64(10), object(2)\n",
            "memory usage: 1.4+ MB\n"
          ]
        }
      ],
      "source": [
        "import pandas as pd\n",
        "import numpy as np\n",
        "df=pd.read_csv('/content/timeseries_fall_risk_dataset.csv')\n",
        "df.info()"
      ]
    },
    {
      "cell_type": "code",
      "source": [
        "import pandas as pd\n",
        "import numpy as np\n",
        "from sklearn.model_selection import train_test_split\n",
        "from sklearn.ensemble import RandomForestClassifier\n",
        "from sklearn.preprocessing import LabelEncoder\n",
        "from sklearn.metrics import accuracy_score, classification_report, confusion_matrix\n",
        "\n"
      ],
      "metadata": {
        "id": "sJm0nOS909VZ"
      },
      "execution_count": null,
      "outputs": []
    },
    {
      "cell_type": "code",
      "source": [
        "# 1️⃣ Load Dataset\n",
        "df = pd.read_csv(\"timeseries_fall_risk_dataset.csv\")\n",
        "\n"
      ],
      "metadata": {
        "id": "sLC8FJ5f1Cwd"
      },
      "execution_count": null,
      "outputs": []
    },
    {
      "cell_type": "code",
      "source": [
        "# 2️⃣ Convert Timestamp to datetime\n",
        "df[\"Timestamp\"] = pd.to_datetime(df[\"Timestamp\"])\n",
        "\n"
      ],
      "metadata": {
        "id": "Bb7XUyvB1GrK"
      },
      "execution_count": null,
      "outputs": []
    },
    {
      "cell_type": "code",
      "source": [
        "# 3️⃣ Encode Risk Level Labels (Low = 0, Moderate = 1, High = 2)\n",
        "label_encoder = LabelEncoder()\n",
        "df[\"Risk_Level_Updated\"] = label_encoder.fit_transform(df[\"Risk_Level_Updated\"])\n",
        "\n",
        "# 4️⃣ Select Features & Target\n",
        "X = df.drop(columns=[\"Timestamp\", \"Risk_Level_Updated\"])  # Features\n",
        "y = df[\"Risk_Level_Updated\"]  # Target Variable\n"
      ],
      "metadata": {
        "id": "H15JTTCG1PZi"
      },
      "execution_count": null,
      "outputs": []
    },
    {
      "cell_type": "code",
      "source": [],
      "metadata": {
        "id": "f8XIp3zd1aTM"
      },
      "execution_count": null,
      "outputs": []
    },
    {
      "cell_type": "code",
      "source": [
        "\n",
        "# 5️⃣ Split Data (80% Train, 20% Test)\n",
        "X_train, X_test, y_train, y_test = train_test_split(X, y, test_size=0.2, random_state=42)\n",
        "\n",
        "# 6️⃣ Train Random Forest Model\n",
        "rf_model = RandomForestClassifier(n_estimators=200, max_depth=10, random_state=42)\n",
        "rf_model.fit(X_train, y_train)\n",
        "\n",
        "# 7️⃣ Predictions\n",
        "y_pred = rf_model.predict(X_test)\n",
        "\n",
        "# 8️⃣ Evaluate Model\n",
        "accuracy = accuracy_score(y_test, y_pred)\n",
        "print(f\"✅ Model Accuracy: {accuracy:.4f}\")\n",
        "print(\"📌 Classification Report:\\n\", classification_report(y_test, y_pred))\n",
        "print(\"📊 Confusion Matrix:\\n\", confusion_matrix(y_test, y_pred))\n",
        "\n",
        "# 9️⃣ Feature Importance\n",
        "feature_importance = pd.Series(rf_model.feature_importances_, index=X.columns)\n",
        "print(\"🔍 Top Features Affecting Fall Risk:\\n\", feature_importance.sort_values(ascending=False))\n"
      ],
      "metadata": {
        "id": "kBUWxdOM1Uha",
        "colab": {
          "base_uri": "https://localhost:8080/"
        },
        "outputId": "19928c28-5fc6-42d4-f4c1-4797bce43008"
      },
      "execution_count": null,
      "outputs": [
        {
          "output_type": "stream",
          "name": "stdout",
          "text": [
            "✅ Model Accuracy: 1.0000\n",
            "📌 Classification Report:\n",
            "               precision    recall  f1-score   support\n",
            "\n",
            "           0       1.00      1.00      1.00       993\n",
            "           1       1.00      1.00      1.00      1037\n",
            "           2       1.00      1.00      1.00       970\n",
            "\n",
            "    accuracy                           1.00      3000\n",
            "   macro avg       1.00      1.00      1.00      3000\n",
            "weighted avg       1.00      1.00      1.00      3000\n",
            "\n",
            "📊 Confusion Matrix:\n",
            " [[ 993    0    0]\n",
            " [   0 1037    0]\n",
            " [   0    0  970]]\n",
            "🔍 Top Features Affecting Fall Risk:\n",
            " Body_Temperature      0.435810\n",
            "Heart_Rate            0.387578\n",
            "Pressure_Left         0.093483\n",
            "Pressure_Right        0.055601\n",
            "Angular_Velocity_X    0.006916\n",
            "Angular_Velocity_Z    0.005883\n",
            "Angular_Velocity_Y    0.005219\n",
            "Acceleration_Z        0.004354\n",
            "Acceleration_Y        0.003262\n",
            "Acceleration_X        0.001893\n",
            "dtype: float64\n"
          ]
        }
      ]
    },
    {
      "cell_type": "code",
      "source": [
        "import pandas as pd\n",
        "import numpy as np\n",
        "from sklearn.ensemble import RandomForestClassifier\n",
        "from sklearn.preprocessing import LabelEncoder\n",
        "from sklearn.model_selection import StratifiedKFold, cross_val_score\n",
        "\n",
        "# 1️⃣ Load Dataset\n",
        "df = pd.read_csv(\"timeseries_fall_risk_dataset.csv\")\n",
        "\n",
        "# 2️⃣ Convert Timestamp to datetime\n",
        "df[\"Timestamp\"] = pd.to_datetime(df[\"Timestamp\"])\n",
        "\n",
        "# 3️⃣ Encode Risk Level Labels (Low = 0, Moderate = 1, High = 2)\n",
        "label_encoder = LabelEncoder()\n",
        "df[\"Risk_Level_Updated\"] = label_encoder.fit_transform(df[\"Risk_Level_Updated\"])\n",
        "\n",
        "# 4️⃣ Select Features & Target\n",
        "X = df.drop(columns=[\"Timestamp\", \"Risk_Level_Updated\"])  # Features\n",
        "y = df[\"Risk_Level_Updated\"]  # Target Variable\n",
        "\n",
        "# 5️⃣ Set up Stratified K-Fold Cross-Validation\n",
        "cv = StratifiedKFold(n_splits=5, shuffle=True, random_state=42)\n",
        "\n",
        "# 6️⃣ Initialize Random Forest Classifier\n",
        "rf_model = RandomForestClassifier(n_estimators=200, max_depth=10, random_state=42)\n",
        "\n",
        "# 7️⃣ Perform Cross-Validation\n",
        "cv_scores = cross_val_score(rf_model, X, y, cv=cv, scoring=\"accuracy\")\n",
        "\n",
        "# 8️⃣ Print Results\n",
        "print(f\"✅ Cross-Validation Accuracy Scores: {cv_scores}\")\n",
        "print(f\"📊 Average Accuracy: {np.mean(cv_scores):.4f}\")\n",
        "print(f\"📉 Standard Deviation: {np.std(cv_scores):.4f}\")\n"
      ],
      "metadata": {
        "colab": {
          "base_uri": "https://localhost:8080/"
        },
        "id": "4aW_zbKw13j1",
        "outputId": "cf4228ee-2ab7-4132-d755-58db39a1c969"
      },
      "execution_count": null,
      "outputs": [
        {
          "output_type": "stream",
          "name": "stdout",
          "text": [
            "✅ Cross-Validation Accuracy Scores: [1. 1. 1. 1. 1.]\n",
            "📊 Average Accuracy: 1.0000\n",
            "📉 Standard Deviation: 0.0000\n"
          ]
        }
      ]
    },
    {
      "cell_type": "code",
      "source": [
        "import pandas as pd\n",
        "import numpy as np\n",
        "from sklearn.ensemble import RandomForestClassifier\n",
        "from sklearn.preprocessing import LabelEncoder\n",
        "from sklearn.model_selection import train_test_split\n",
        "\n",
        "# 1️⃣ Load Dataset\n",
        "df = pd.read_csv(\"timeseries_fall_risk_dataset.csv\")\n",
        "\n",
        "# 2️⃣ Convert Timestamp to datetime\n",
        "df[\"Timestamp\"] = pd.to_datetime(df[\"Timestamp\"])\n",
        "\n",
        "# 3️⃣ Encode Risk Level Labels\n",
        "label_encoder = LabelEncoder()\n",
        "df[\"Risk_Level_Updated\"] = label_encoder.fit_transform(df[\"Risk_Level_Updated\"])\n",
        "\n",
        "# 4️⃣ Select Features & Target\n",
        "X = df.drop(columns=[\"Timestamp\", \"Risk_Level_Updated\"])  # Features\n",
        "y = df[\"Risk_Level_Updated\"]  # Target Variable\n",
        "\n",
        "# 5️⃣ Train-Test Split (80% Train, 20% Test)\n",
        "X_train, X_test, y_train, y_test = train_test_split(X, y, test_size=0.2, random_state=42, stratify=y)\n",
        "\n",
        "# 6️⃣ Train Random Forest Classifier\n",
        "rf_model = RandomForestClassifier(n_estimators=200, max_depth=10, random_state=42)\n",
        "rf_model.fit(X_train, y_train)\n",
        "\n",
        "# 7️⃣ Test Data (Example Scenario)\n",
        "sample_data = np.array([[5.0, 3.2, 0.5, 3.5, 4.1, 5.2, 20, 80, 140, 39.5]])  # Modify for different cases\n",
        "\n",
        "# 8️⃣ Make Prediction\n",
        "predicted_risk = rf_model.predict(sample_data)[0]  # Get single prediction\n",
        "\n",
        "# 9️⃣ Convert Prediction to Meaningful Alert\n",
        "risk_levels = {0: \"🔵 Low Risk\", 1: \"🟠 Medium Risk\", 2: \"🔴 High Risk\"}\n",
        "alerts = {\n",
        "    0: \"✅ Safe, but caution needed. Take care! Maintain balance.\",\n",
        "    1: \"⚠️ Warning! Possible fall risk. Hold a railing, avoid sudden movements.\",\n",
        "    2: \"🚨 Critical! Fall is likely! Stop moving, sit down immediately!\"\n",
        "}\n",
        "\n",
        "# 🔟 Display Output\n",
        "print(f\"📌 Predicted Risk Level: {risk_levels[predicted_risk]}\")\n",
        "print(f\"🔹 Alert: {alerts[predicted_risk]}\")\n"
      ],
      "metadata": {
        "colab": {
          "base_uri": "https://localhost:8080/"
        },
        "id": "CTS3GjpL20c0",
        "outputId": "9cd49d0c-1b41-4925-c644-72f997bbf2dd"
      },
      "execution_count": null,
      "outputs": [
        {
          "output_type": "stream",
          "name": "stdout",
          "text": [
            "📌 Predicted Risk Level: 🔵 Low Risk\n",
            "🔹 Alert: ✅ Safe, but caution needed. Take care! Maintain balance.\n"
          ]
        },
        {
          "output_type": "stream",
          "name": "stderr",
          "text": [
            "/usr/local/lib/python3.11/dist-packages/sklearn/utils/validation.py:2739: UserWarning: X does not have valid feature names, but RandomForestClassifier was fitted with feature names\n",
            "  warnings.warn(\n"
          ]
        }
      ]
    }
  ]
}